{
 "cells": [
  {
   "cell_type": "code",
   "execution_count": 1,
   "metadata": {},
   "outputs": [],
   "source": [
    "import pandas as pd\n",
    "%matplotlib inline\n",
    "import numpy as np\n",
    "import matplotlib.pyplot as plt\n",
    "import seaborn as sns\n",
    "from scipy import optimize"
   ]
  },
  {
   "cell_type": "markdown",
   "metadata": {},
   "source": [
    "# Read in FantasyFootballAnalytics Data"
   ]
  },
  {
   "cell_type": "code",
   "execution_count": 2,
   "metadata": {},
   "outputs": [],
   "source": [
    "df = pd.read_csv('ffa_customrankings2019-0.csv')"
   ]
  },
  {
   "cell_type": "code",
   "execution_count": 3,
   "metadata": {
    "scrolled": true
   },
   "outputs": [
    {
     "data": {
      "text/html": [
       "<div>\n",
       "<style scoped>\n",
       "    .dataframe tbody tr th:only-of-type {\n",
       "        vertical-align: middle;\n",
       "    }\n",
       "\n",
       "    .dataframe tbody tr th {\n",
       "        vertical-align: top;\n",
       "    }\n",
       "\n",
       "    .dataframe thead th {\n",
       "        text-align: right;\n",
       "    }\n",
       "</style>\n",
       "<table border=\"1\" class=\"dataframe\">\n",
       "  <thead>\n",
       "    <tr style=\"text-align: right;\">\n",
       "      <th></th>\n",
       "      <th>playerId</th>\n",
       "      <th>player</th>\n",
       "      <th>team</th>\n",
       "      <th>position</th>\n",
       "      <th>age</th>\n",
       "      <th>exp</th>\n",
       "      <th>bye</th>\n",
       "      <th>lower</th>\n",
       "      <th>upper</th>\n",
       "      <th>sdPts</th>\n",
       "      <th>...</th>\n",
       "      <th>positionRank</th>\n",
       "      <th>ptsGame</th>\n",
       "      <th>vorGame</th>\n",
       "      <th>vorGameLow</th>\n",
       "      <th>vorGameHigh</th>\n",
       "      <th>adp</th>\n",
       "      <th>auctionValue</th>\n",
       "      <th>adpDiff</th>\n",
       "      <th>cost</th>\n",
       "      <th>ppdollar</th>\n",
       "    </tr>\n",
       "  </thead>\n",
       "  <tbody>\n",
       "    <tr>\n",
       "      <th>0</th>\n",
       "      <td>2560968</td>\n",
       "      <td>Saquon Barkley</td>\n",
       "      <td>NYG</td>\n",
       "      <td>RB</td>\n",
       "      <td>22.0</td>\n",
       "      <td>1.0</td>\n",
       "      <td>11.0</td>\n",
       "      <td>292.187000</td>\n",
       "      <td>356.878658</td>\n",
       "      <td>27.465896</td>\n",
       "      <td>...</td>\n",
       "      <td>1</td>\n",
       "      <td>20.667914</td>\n",
       "      <td>13.737235</td>\n",
       "      <td>13.362149</td>\n",
       "      <td>13.737704</td>\n",
       "      <td>1.3125</td>\n",
       "      <td>67.9167</td>\n",
       "      <td>-0.3125</td>\n",
       "      <td>75</td>\n",
       "      <td>4.409155</td>\n",
       "    </tr>\n",
       "    <tr>\n",
       "      <th>1</th>\n",
       "      <td>2558019</td>\n",
       "      <td>Alvin Kamara</td>\n",
       "      <td>NO</td>\n",
       "      <td>RB</td>\n",
       "      <td>23.0</td>\n",
       "      <td>2.0</td>\n",
       "      <td>9.0</td>\n",
       "      <td>289.191471</td>\n",
       "      <td>325.254722</td>\n",
       "      <td>14.041320</td>\n",
       "      <td>...</td>\n",
       "      <td>2</td>\n",
       "      <td>19.051325</td>\n",
       "      <td>12.120645</td>\n",
       "      <td>13.174928</td>\n",
       "      <td>11.761208</td>\n",
       "      <td>2.7450</td>\n",
       "      <td>65.7533</td>\n",
       "      <td>-0.7450</td>\n",
       "      <td>73</td>\n",
       "      <td>4.175633</td>\n",
       "    </tr>\n",
       "    <tr>\n",
       "      <th>2</th>\n",
       "      <td>2557997</td>\n",
       "      <td>Christian McCaffrey</td>\n",
       "      <td>CAR</td>\n",
       "      <td>RB</td>\n",
       "      <td>23.0</td>\n",
       "      <td>2.0</td>\n",
       "      <td>7.0</td>\n",
       "      <td>275.300000</td>\n",
       "      <td>329.551517</td>\n",
       "      <td>21.842973</td>\n",
       "      <td>...</td>\n",
       "      <td>3</td>\n",
       "      <td>18.965151</td>\n",
       "      <td>12.034472</td>\n",
       "      <td>12.306711</td>\n",
       "      <td>12.029757</td>\n",
       "      <td>3.2625</td>\n",
       "      <td>64.8667</td>\n",
       "      <td>-0.2625</td>\n",
       "      <td>72</td>\n",
       "      <td>4.214478</td>\n",
       "    </tr>\n",
       "    <tr>\n",
       "      <th>3</th>\n",
       "      <td>2558125</td>\n",
       "      <td>Patrick Mahomes</td>\n",
       "      <td>KC</td>\n",
       "      <td>QB</td>\n",
       "      <td>NaN</td>\n",
       "      <td>2.0</td>\n",
       "      <td>12.0</td>\n",
       "      <td>337.665627</td>\n",
       "      <td>385.997960</td>\n",
       "      <td>25.439581</td>\n",
       "      <td>...</td>\n",
       "      <td>1</td>\n",
       "      <td>22.598085</td>\n",
       "      <td>10.897159</td>\n",
       "      <td>17.063284</td>\n",
       "      <td>9.886506</td>\n",
       "      <td>18.4825</td>\n",
       "      <td>30.1033</td>\n",
       "      <td>-14.4825</td>\n",
       "      <td>34</td>\n",
       "      <td>10.634393</td>\n",
       "    </tr>\n",
       "    <tr>\n",
       "      <th>4</th>\n",
       "      <td>2555224</td>\n",
       "      <td>Ezekiel Elliott</td>\n",
       "      <td>DAL</td>\n",
       "      <td>RB</td>\n",
       "      <td>24.0</td>\n",
       "      <td>3.0</td>\n",
       "      <td>8.0</td>\n",
       "      <td>234.057000</td>\n",
       "      <td>311.149123</td>\n",
       "      <td>33.221537</td>\n",
       "      <td>...</td>\n",
       "      <td>4</td>\n",
       "      <td>17.679461</td>\n",
       "      <td>10.748782</td>\n",
       "      <td>10.014820</td>\n",
       "      <td>11.259538</td>\n",
       "      <td>5.5150</td>\n",
       "      <td>58.8467</td>\n",
       "      <td>-0.5150</td>\n",
       "      <td>65</td>\n",
       "      <td>4.268475</td>\n",
       "    </tr>\n",
       "  </tbody>\n",
       "</table>\n",
       "<p>5 rows × 34 columns</p>\n",
       "</div>"
      ],
      "text/plain": [
       "   playerId               player team position   age  exp   bye       lower  \\\n",
       "0   2560968       Saquon Barkley  NYG       RB  22.0  1.0  11.0  292.187000   \n",
       "1   2558019         Alvin Kamara   NO       RB  23.0  2.0   9.0  289.191471   \n",
       "2   2557997  Christian McCaffrey  CAR       RB  23.0  2.0   7.0  275.300000   \n",
       "3   2558125      Patrick Mahomes   KC       QB   NaN  2.0  12.0  337.665627   \n",
       "4   2555224      Ezekiel Elliott  DAL       RB  24.0  3.0   8.0  234.057000   \n",
       "\n",
       "        upper      sdPts    ...      positionRank    ptsGame    vorGame  \\\n",
       "0  356.878658  27.465896    ...                 1  20.667914  13.737235   \n",
       "1  325.254722  14.041320    ...                 2  19.051325  12.120645   \n",
       "2  329.551517  21.842973    ...                 3  18.965151  12.034472   \n",
       "3  385.997960  25.439581    ...                 1  22.598085  10.897159   \n",
       "4  311.149123  33.221537    ...                 4  17.679461  10.748782   \n",
       "\n",
       "   vorGameLow  vorGameHigh      adp  auctionValue  adpDiff  cost   ppdollar  \n",
       "0   13.362149    13.737704   1.3125       67.9167  -0.3125    75   4.409155  \n",
       "1   13.174928    11.761208   2.7450       65.7533  -0.7450    73   4.175633  \n",
       "2   12.306711    12.029757   3.2625       64.8667  -0.2625    72   4.214478  \n",
       "3   17.063284     9.886506  18.4825       30.1033 -14.4825    34  10.634393  \n",
       "4   10.014820    11.259538   5.5150       58.8467  -0.5150    65   4.268475  \n",
       "\n",
       "[5 rows x 34 columns]"
      ]
     },
     "execution_count": 3,
     "metadata": {},
     "output_type": "execute_result"
    }
   ],
   "source": [
    "df.head()"
   ]
  },
  {
   "cell_type": "code",
   "execution_count": 4,
   "metadata": {},
   "outputs": [
    {
     "data": {
      "text/plain": [
       "Index(['playerId', 'player', 'team', 'position', 'age', 'exp', 'bye', 'lower',\n",
       "       'upper', 'sdPts', 'dropoff', 'tier', 'ptSpread', 'overallECR',\n",
       "       'positionECR', 'sdRank', 'risk', 'sleeper', 'games', 'points', 'vor',\n",
       "       'vorLow', 'vorHigh', 'overallRank', 'positionRank', 'ptsGame',\n",
       "       'vorGame', 'vorGameLow', 'vorGameHigh', 'adp', 'auctionValue',\n",
       "       'adpDiff', 'cost', 'ppdollar'],\n",
       "      dtype='object')"
      ]
     },
     "execution_count": 4,
     "metadata": {},
     "output_type": "execute_result"
    }
   ],
   "source": [
    "df.columns"
   ]
  },
  {
   "cell_type": "code",
   "execution_count": 5,
   "metadata": {},
   "outputs": [
    {
     "name": "stdout",
     "output_type": "stream",
     "text": [
      "<class 'pandas.core.frame.DataFrame'>\n",
      "RangeIndex: 728 entries, 0 to 727\n",
      "Data columns (total 34 columns):\n",
      "playerId        728 non-null int64\n",
      "player          728 non-null object\n",
      "team            728 non-null object\n",
      "position        728 non-null object\n",
      "age             621 non-null float64\n",
      "exp             695 non-null float64\n",
      "bye             608 non-null float64\n",
      "lower           728 non-null float64\n",
      "upper           728 non-null float64\n",
      "sdPts           696 non-null float64\n",
      "dropoff         724 non-null float64\n",
      "tier            728 non-null int64\n",
      "ptSpread        728 non-null float64\n",
      "overallECR      463 non-null float64\n",
      "positionECR     599 non-null float64\n",
      "sdRank          599 non-null float64\n",
      "risk            617 non-null float64\n",
      "sleeper         180 non-null float64\n",
      "games           728 non-null float64\n",
      "points          728 non-null float64\n",
      "vor             728 non-null float64\n",
      "vorLow          728 non-null float64\n",
      "vorHigh         728 non-null float64\n",
      "overallRank     728 non-null int64\n",
      "positionRank    728 non-null int64\n",
      "ptsGame         728 non-null float64\n",
      "vorGame         728 non-null float64\n",
      "vorGameLow      728 non-null float64\n",
      "vorGameHigh     728 non-null float64\n",
      "adp             639 non-null float64\n",
      "auctionValue    330 non-null float64\n",
      "adpDiff         639 non-null float64\n",
      "cost            728 non-null int64\n",
      "ppdollar        728 non-null float64\n",
      "dtypes: float64(26), int64(5), object(3)\n",
      "memory usage: 193.5+ KB\n"
     ]
    }
   ],
   "source": [
    "df.info()"
   ]
  },
  {
   "cell_type": "markdown",
   "metadata": {},
   "source": [
    "Here I will only work with 'above replacement' players (i.e. players that will get drafted). Let's take a look at some of the statistics"
   ]
  },
  {
   "cell_type": "code",
   "execution_count": 7,
   "metadata": {},
   "outputs": [
    {
     "data": {
      "text/html": [
       "<div>\n",
       "<style scoped>\n",
       "    .dataframe tbody tr th:only-of-type {\n",
       "        vertical-align: middle;\n",
       "    }\n",
       "\n",
       "    .dataframe tbody tr th {\n",
       "        vertical-align: top;\n",
       "    }\n",
       "\n",
       "    .dataframe thead th {\n",
       "        text-align: right;\n",
       "    }\n",
       "</style>\n",
       "<table border=\"1\" class=\"dataframe\">\n",
       "  <thead>\n",
       "    <tr style=\"text-align: right;\">\n",
       "      <th></th>\n",
       "      <th>vor</th>\n",
       "      <th>cost</th>\n",
       "      <th>overallRank</th>\n",
       "    </tr>\n",
       "  </thead>\n",
       "  <tbody>\n",
       "    <tr>\n",
       "      <th>count</th>\n",
       "      <td>138.000000</td>\n",
       "      <td>138.000000</td>\n",
       "      <td>138.000000</td>\n",
       "    </tr>\n",
       "    <tr>\n",
       "      <th>mean</th>\n",
       "      <td>66.348677</td>\n",
       "      <td>15.724638</td>\n",
       "      <td>70.094203</td>\n",
       "    </tr>\n",
       "    <tr>\n",
       "      <th>std</th>\n",
       "      <td>48.035276</td>\n",
       "      <td>18.939307</td>\n",
       "      <td>40.711176</td>\n",
       "    </tr>\n",
       "    <tr>\n",
       "      <th>min</th>\n",
       "      <td>0.077014</td>\n",
       "      <td>2.000000</td>\n",
       "      <td>1.000000</td>\n",
       "    </tr>\n",
       "    <tr>\n",
       "      <th>25%</th>\n",
       "      <td>26.529423</td>\n",
       "      <td>3.000000</td>\n",
       "      <td>35.250000</td>\n",
       "    </tr>\n",
       "    <tr>\n",
       "      <th>50%</th>\n",
       "      <td>59.228635</td>\n",
       "      <td>6.000000</td>\n",
       "      <td>69.500000</td>\n",
       "    </tr>\n",
       "    <tr>\n",
       "      <th>75%</th>\n",
       "      <td>101.792395</td>\n",
       "      <td>22.250000</td>\n",
       "      <td>105.750000</td>\n",
       "    </tr>\n",
       "    <tr>\n",
       "      <th>max</th>\n",
       "      <td>220.939627</td>\n",
       "      <td>75.000000</td>\n",
       "      <td>140.000000</td>\n",
       "    </tr>\n",
       "  </tbody>\n",
       "</table>\n",
       "</div>"
      ],
      "text/plain": [
       "              vor        cost  overallRank\n",
       "count  138.000000  138.000000   138.000000\n",
       "mean    66.348677   15.724638    70.094203\n",
       "std     48.035276   18.939307    40.711176\n",
       "min      0.077014    2.000000     1.000000\n",
       "25%     26.529423    3.000000    35.250000\n",
       "50%     59.228635    6.000000    69.500000\n",
       "75%    101.792395   22.250000   105.750000\n",
       "max    220.939627   75.000000   140.000000"
      ]
     },
     "execution_count": 7,
     "metadata": {},
     "output_type": "execute_result"
    }
   ],
   "source": [
    "above_replacement = df[df['vor'] > 0.0].copy()\n",
    "above_replacement[['player', 'vor', 'cost', 'overallRank']].describe()"
   ]
  },
  {
   "cell_type": "code",
   "execution_count": 28,
   "metadata": {},
   "outputs": [
    {
     "name": "stdout",
     "output_type": "stream",
     "text": [
      "dollar per vor: 4.578058737569661\n"
     ]
    }
   ],
   "source": [
    "dollar_per_vor = above_replacement['vor'].sum()/2000.0\n",
    "print('dollar per vor:', dollar_per_vor)"
   ]
  },
  {
   "cell_type": "code",
   "execution_count": 29,
   "metadata": {},
   "outputs": [],
   "source": [
    "# add a column that calculates how much each player should be worth based on the 4.6 overall dollars per VOR\n",
    "above_replacement[['dollarVor']] = above_replacement[['vor']] / dollar_per_vor"
   ]
  },
  {
   "cell_type": "code",
   "execution_count": 10,
   "metadata": {},
   "outputs": [
    {
     "data": {
      "text/html": [
       "<div>\n",
       "<style scoped>\n",
       "    .dataframe tbody tr th:only-of-type {\n",
       "        vertical-align: middle;\n",
       "    }\n",
       "\n",
       "    .dataframe tbody tr th {\n",
       "        vertical-align: top;\n",
       "    }\n",
       "\n",
       "    .dataframe thead th {\n",
       "        text-align: right;\n",
       "    }\n",
       "</style>\n",
       "<table border=\"1\" class=\"dataframe\">\n",
       "  <thead>\n",
       "    <tr style=\"text-align: right;\">\n",
       "      <th></th>\n",
       "      <th>playerId</th>\n",
       "      <th>player</th>\n",
       "      <th>team</th>\n",
       "      <th>position</th>\n",
       "      <th>age</th>\n",
       "      <th>exp</th>\n",
       "      <th>bye</th>\n",
       "      <th>lower</th>\n",
       "      <th>upper</th>\n",
       "      <th>sdPts</th>\n",
       "      <th>...</th>\n",
       "      <th>ptsGame</th>\n",
       "      <th>vorGame</th>\n",
       "      <th>vorGameLow</th>\n",
       "      <th>vorGameHigh</th>\n",
       "      <th>adp</th>\n",
       "      <th>auctionValue</th>\n",
       "      <th>adpDiff</th>\n",
       "      <th>cost</th>\n",
       "      <th>ppdollar</th>\n",
       "      <th>dollarVor</th>\n",
       "    </tr>\n",
       "  </thead>\n",
       "  <tbody>\n",
       "    <tr>\n",
       "      <th>0</th>\n",
       "      <td>2560968</td>\n",
       "      <td>Saquon Barkley</td>\n",
       "      <td>NYG</td>\n",
       "      <td>RB</td>\n",
       "      <td>22.0</td>\n",
       "      <td>1.0</td>\n",
       "      <td>11.0</td>\n",
       "      <td>292.187000</td>\n",
       "      <td>356.878658</td>\n",
       "      <td>27.465896</td>\n",
       "      <td>...</td>\n",
       "      <td>20.667914</td>\n",
       "      <td>13.737235</td>\n",
       "      <td>13.362149</td>\n",
       "      <td>13.737704</td>\n",
       "      <td>1.3125</td>\n",
       "      <td>67.9167</td>\n",
       "      <td>-0.3125</td>\n",
       "      <td>75</td>\n",
       "      <td>4.409155</td>\n",
       "      <td>48.260549</td>\n",
       "    </tr>\n",
       "    <tr>\n",
       "      <th>1</th>\n",
       "      <td>2558019</td>\n",
       "      <td>Alvin Kamara</td>\n",
       "      <td>NO</td>\n",
       "      <td>RB</td>\n",
       "      <td>23.0</td>\n",
       "      <td>2.0</td>\n",
       "      <td>9.0</td>\n",
       "      <td>289.191471</td>\n",
       "      <td>325.254722</td>\n",
       "      <td>14.041320</td>\n",
       "      <td>...</td>\n",
       "      <td>19.051325</td>\n",
       "      <td>12.120645</td>\n",
       "      <td>13.174928</td>\n",
       "      <td>11.761208</td>\n",
       "      <td>2.7450</td>\n",
       "      <td>65.7533</td>\n",
       "      <td>-0.7450</td>\n",
       "      <td>73</td>\n",
       "      <td>4.175633</td>\n",
       "      <td>42.610681</td>\n",
       "    </tr>\n",
       "    <tr>\n",
       "      <th>2</th>\n",
       "      <td>2557997</td>\n",
       "      <td>Christian McCaffrey</td>\n",
       "      <td>CAR</td>\n",
       "      <td>RB</td>\n",
       "      <td>23.0</td>\n",
       "      <td>2.0</td>\n",
       "      <td>7.0</td>\n",
       "      <td>275.300000</td>\n",
       "      <td>329.551517</td>\n",
       "      <td>21.842973</td>\n",
       "      <td>...</td>\n",
       "      <td>18.965151</td>\n",
       "      <td>12.034472</td>\n",
       "      <td>12.306711</td>\n",
       "      <td>12.029757</td>\n",
       "      <td>3.2625</td>\n",
       "      <td>64.8667</td>\n",
       "      <td>-0.2625</td>\n",
       "      <td>72</td>\n",
       "      <td>4.214478</td>\n",
       "      <td>42.309509</td>\n",
       "    </tr>\n",
       "    <tr>\n",
       "      <th>3</th>\n",
       "      <td>2558125</td>\n",
       "      <td>Patrick Mahomes</td>\n",
       "      <td>KC</td>\n",
       "      <td>QB</td>\n",
       "      <td>NaN</td>\n",
       "      <td>2.0</td>\n",
       "      <td>12.0</td>\n",
       "      <td>337.665627</td>\n",
       "      <td>385.997960</td>\n",
       "      <td>25.439581</td>\n",
       "      <td>...</td>\n",
       "      <td>22.598085</td>\n",
       "      <td>10.897159</td>\n",
       "      <td>17.063284</td>\n",
       "      <td>9.886506</td>\n",
       "      <td>18.4825</td>\n",
       "      <td>30.1033</td>\n",
       "      <td>-14.4825</td>\n",
       "      <td>34</td>\n",
       "      <td>10.634393</td>\n",
       "      <td>38.084821</td>\n",
       "    </tr>\n",
       "    <tr>\n",
       "      <th>4</th>\n",
       "      <td>2555224</td>\n",
       "      <td>Ezekiel Elliott</td>\n",
       "      <td>DAL</td>\n",
       "      <td>RB</td>\n",
       "      <td>24.0</td>\n",
       "      <td>3.0</td>\n",
       "      <td>8.0</td>\n",
       "      <td>234.057000</td>\n",
       "      <td>311.149123</td>\n",
       "      <td>33.221537</td>\n",
       "      <td>...</td>\n",
       "      <td>17.679461</td>\n",
       "      <td>10.748782</td>\n",
       "      <td>10.014820</td>\n",
       "      <td>11.259538</td>\n",
       "      <td>5.5150</td>\n",
       "      <td>58.8467</td>\n",
       "      <td>-0.5150</td>\n",
       "      <td>65</td>\n",
       "      <td>4.268475</td>\n",
       "      <td>36.632090</td>\n",
       "    </tr>\n",
       "  </tbody>\n",
       "</table>\n",
       "<p>5 rows × 35 columns</p>\n",
       "</div>"
      ],
      "text/plain": [
       "   playerId               player team position   age  exp   bye       lower  \\\n",
       "0   2560968       Saquon Barkley  NYG       RB  22.0  1.0  11.0  292.187000   \n",
       "1   2558019         Alvin Kamara   NO       RB  23.0  2.0   9.0  289.191471   \n",
       "2   2557997  Christian McCaffrey  CAR       RB  23.0  2.0   7.0  275.300000   \n",
       "3   2558125      Patrick Mahomes   KC       QB   NaN  2.0  12.0  337.665627   \n",
       "4   2555224      Ezekiel Elliott  DAL       RB  24.0  3.0   8.0  234.057000   \n",
       "\n",
       "        upper      sdPts    ...        ptsGame    vorGame  vorGameLow  \\\n",
       "0  356.878658  27.465896    ...      20.667914  13.737235   13.362149   \n",
       "1  325.254722  14.041320    ...      19.051325  12.120645   13.174928   \n",
       "2  329.551517  21.842973    ...      18.965151  12.034472   12.306711   \n",
       "3  385.997960  25.439581    ...      22.598085  10.897159   17.063284   \n",
       "4  311.149123  33.221537    ...      17.679461  10.748782   10.014820   \n",
       "\n",
       "   vorGameHigh      adp  auctionValue  adpDiff  cost   ppdollar  dollarVor  \n",
       "0    13.737704   1.3125       67.9167  -0.3125    75   4.409155  48.260549  \n",
       "1    11.761208   2.7450       65.7533  -0.7450    73   4.175633  42.610681  \n",
       "2    12.029757   3.2625       64.8667  -0.2625    72   4.214478  42.309509  \n",
       "3     9.886506  18.4825       30.1033 -14.4825    34  10.634393  38.084821  \n",
       "4    11.259538   5.5150       58.8467  -0.5150    65   4.268475  36.632090  \n",
       "\n",
       "[5 rows x 35 columns]"
      ]
     },
     "execution_count": 10,
     "metadata": {},
     "output_type": "execute_result"
    }
   ],
   "source": [
    "above_replacement.head()"
   ]
  },
  {
   "cell_type": "markdown",
   "metadata": {},
   "source": [
    "# Analysis\n",
    "\n",
    "First, let's take a look at the typical amount spent for each player. It seems that QBs are in typically underpriced."
   ]
  },
  {
   "cell_type": "code",
   "execution_count": 12,
   "metadata": {},
   "outputs": [
    {
     "data": {
      "image/png": "[encoded data removed]",
      "text/plain": [
       "<matplotlib.figure.Figure at 0x1a14be09b0>"
      ]
     },
     "metadata": {},
     "output_type": "display_data"
    }
   ],
   "source": [
    "sns.lmplot('vor', 'auctionValue', data=above_replacement, hue='position', fit_reg=False)\n",
    "plt.ylim(-5,80)\n",
    "plt.savefig('aav_all.png')"
   ]
  },
  {
   "cell_type": "code",
   "execution_count": 13,
   "metadata": {},
   "outputs": [
    {
     "data": {
      "image/png": "[encoded data removed]",
      "text/plain": [
       "<matplotlib.figure.Figure at 0x1a14cac390>"
      ]
     },
     "metadata": {},
     "output_type": "display_data"
    }
   ],
   "source": [
    "sns.lmplot('vor', 'auctionValue', data=above_replacement, col='position', fit_reg=False)\n",
    "plt.ylim(-5,80)\n",
    "plt.savefig('aav_pos.png')"
   ]
  },
  {
   "cell_type": "code",
   "execution_count": 14,
   "metadata": {},
   "outputs": [
    {
     "data": {
      "image/png": "[encoded data removed]",
      "text/plain": [
       "<matplotlib.figure.Figure at 0x1a1d2695f8>"
      ]
     },
     "metadata": {},
     "output_type": "display_data"
    }
   ],
   "source": [
    "sns.lmplot('vor', 'cost', data=above_replacement, hue='position', fit_reg=False)\n",
    "plt.ylim(-5,80)\n",
    "plt.savefig('cost_all.png')"
   ]
  },
  {
   "cell_type": "code",
   "execution_count": 15,
   "metadata": {},
   "outputs": [
    {
     "data": {
      "image/png": "[encoded data removed]",
      "text/plain": [
       "<matplotlib.figure.Figure at 0x1a1d2b96d8>"
      ]
     },
     "metadata": {},
     "output_type": "display_data"
    }
   ],
   "source": [
    "sns.lmplot('vor', 'cost', data=above_replacement, col='position', fit_reg=False)\n",
    "plt.ylim(-5,80)\n",
    "plt.savefig('cost_pos.png')"
   ]
  },
  {
   "cell_type": "markdown",
   "metadata": {},
   "source": [
    "## New Cost\n",
    "If we assign a linear relationship for cost per VOR, we can generate a linear relationship that keeps costs down."
   ]
  },
  {
   "cell_type": "code",
   "execution_count": 16,
   "metadata": {},
   "outputs": [
    {
     "data": {
      "image/png": "[encoded data removed]",
      "text/plain": [
       "<matplotlib.figure.Figure at 0x1a1d5a0550>"
      ]
     },
     "metadata": {},
     "output_type": "display_data"
    }
   ],
   "source": [
    "sns.lmplot('vor', 'dollarVor', data=above_replacement, hue='position', fit_reg=False)\n",
    "plt.ylim(-5,80)\n",
    "plt.savefig('straight_all.png')"
   ]
  },
  {
   "cell_type": "markdown",
   "metadata": {},
   "source": [
    "But, it is much harder to replace the best players, and these typically go for higher dollar amounts. Instead, apply a sigmoid function to increase the cost for higher players and decrease the cost"
   ]
  },
  {
   "cell_type": "code",
   "execution_count": 17,
   "metadata": {},
   "outputs": [],
   "source": [
    "rbs = above_replacement[above_replacement['position'] == 'RB']"
   ]
  },
  {
   "cell_type": "code",
   "execution_count": 18,
   "metadata": {},
   "outputs": [
    {
     "name": "stderr",
     "output_type": "stream",
     "text": [
      "/Users/morris/.pyenv/versions/anaconda3-5.1.0/lib/python3.6/site-packages/ipykernel_launcher.py:5: RuntimeWarning: overflow encountered in exp\n",
      "  \"\"\"\n"
     ]
    },
    {
     "name": "stdout",
     "output_type": "stream",
     "text": [
      "[3.59514652e-02 1.15693701e+02 7.67816378e+01]\n"
     ]
    }
   ],
   "source": [
    "# def my_tanh(x, x_0, a, b):\n",
    "#     return a * np.cos(b * (x - x_0))\n",
    "\n",
    "def fsigmoid(x, a, b, c):\n",
    "    return c / (1.0 + np.exp(-a*(x-b)))\n",
    "\n",
    "params, params_covariance = optimize.curve_fit(fsigmoid, rbs['vor'], rbs['cost'])\n",
    "\n",
    "print(params)"
   ]
  },
  {
   "cell_type": "code",
   "execution_count": 19,
   "metadata": {},
   "outputs": [
    {
     "data": {
      "text/plain": [
       "<matplotlib.collections.PathCollection at 0x1a1d50a630>"
      ]
     },
     "execution_count": 19,
     "metadata": {},
     "output_type": "execute_result"
    },
    {
     "data": {
      "image/png": "[encoded data removed]",
      "text/plain": [
       "<matplotlib.figure.Figure at 0x1a1d830f28>"
      ]
     },
     "metadata": {},
     "output_type": "display_data"
    }
   ],
   "source": [
    "my_x = np.arange(0,200)\n",
    "plt.scatter(rbs['vor'], fsigmoid(rbs['vor'], *params))\n",
    "plt.scatter(rbs['vor'], rbs['cost'])"
   ]
  },
  {
   "cell_type": "code",
   "execution_count": 20,
   "metadata": {},
   "outputs": [],
   "source": [
    "\n",
    "above_replacement[['moe_cost']] = fsigmoid(above_replacement[['vor']] , *params)\n",
    "\n",
    "scale_cost = 2000 / above_replacement[['moe_cost']].sum()\n",
    "above_replacement[['moe_cost']] = above_replacement[['moe_cost']] * scale_cost"
   ]
  },
  {
   "cell_type": "code",
   "execution_count": 21,
   "metadata": {},
   "outputs": [
    {
     "data": {
      "image/png": "[encoded data removed]",
      "text/plain": [
       "<matplotlib.figure.Figure at 0x1a1d59c240>"
      ]
     },
     "metadata": {},
     "output_type": "display_data"
    }
   ],
   "source": [
    "# call regplot on each axes\n",
    "#fig, (ax1, ax2) = plt.subplots(ncols=2, sharey=True)\n",
    "#sns.regplot(x=idx, y=df['x'], ax=ax1)\n",
    "#sns.regplot(x=idx, y=df['y'], ax=ax2)\n",
    "\n",
    "sns.lmplot('vor', 'moe_cost', data=above_replacement, hue='position', fit_reg=False)\n",
    "plt.ylim(-5,80)\n",
    "plt.savefig('moe_all.png')"
   ]
  },
  {
   "cell_type": "code",
   "execution_count": 22,
   "metadata": {},
   "outputs": [
    {
     "data": {
      "image/png": "[encoded data removed]",
      "text/plain": [
       "<matplotlib.figure.Figure at 0x1a1d5340b8>"
      ]
     },
     "metadata": {},
     "output_type": "display_data"
    }
   ],
   "source": [
    "sns.lmplot('cost', 'moe_cost', data=above_replacement, hue='position', fit_reg=False)\n",
    "plt.savefig('moe_comp.png')"
   ]
  },
  {
   "cell_type": "code",
   "execution_count": 23,
   "metadata": {},
   "outputs": [
    {
     "data": {
      "text/plain": [
       "moe_cost    2000.0\n",
       "dtype: float64"
      ]
     },
     "execution_count": 23,
     "metadata": {},
     "output_type": "execute_result"
    }
   ],
   "source": [
    "above_replacement[['moe_cost']].sum()"
   ]
  },
  {
   "cell_type": "code",
   "execution_count": null,
   "metadata": {},
   "outputs": [],
   "source": []
  }
 ],
 "metadata": {
  "kernelspec": {
   "display_name": "Python 3",
   "language": "python",
   "name": "python3"
  },
  "language_info": {
   "codemirror_mode": {
    "name": "ipython",
    "version": 3
   },
   "file_extension": ".py",
   "mimetype": "text/x-python",
   "name": "python",
   "nbconvert_exporter": "python",
   "pygments_lexer": "ipython3",
   "version": "3.6.4"
  }
 },
 "nbformat": 4,
 "nbformat_minor": 2
}
